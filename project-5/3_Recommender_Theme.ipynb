{
 "cells": [
  {
   "cell_type": "markdown",
   "metadata": {},
   "source": [
    "## Recommender: Overview of Movie Synopsis\n",
    "\n",
    "This notebook uses the 'overview' column, which is concise description of the movie synopsis, to make a recommender. It uses a TfidfVectorizer to capture infrequently used words and weigh them more heavily (in contrast to CountVectorizer)."
   ]
  },
  {
   "cell_type": "code",
   "execution_count": 16,
   "metadata": {},
   "outputs": [],
   "source": [
    "###############\n",
    "### IMPORTS ###\n",
    "###############\n",
    "\n",
    "import pandas as pd\n",
    "import numpy as np\n",
    "\n",
    "import matplotlib as plt\n",
    "import seaborn as sns\n",
    "\n",
    "from sklearn.feature_extraction.text import TfidfVectorizer, CountVectorizer\n",
    "from sklearn.metrics.pairwise import cosine_similarity\n",
    "\n",
    "import pickle"
   ]
  },
  {
   "cell_type": "code",
   "execution_count": 17,
   "metadata": {},
   "outputs": [],
   "source": [
    "df_all = pd.read_csv('data/dataframe_merged_small.csv')"
   ]
  },
  {
   "cell_type": "code",
   "execution_count": 18,
   "metadata": {},
   "outputs": [
    {
     "name": "stdout",
     "output_type": "stream",
     "text": [
      "Shape of dataframe:  (10876, 29)\n",
      "Columns of dataframe:  Index(['adult', 'belongs_to_collection', 'budget', 'genres', 'homepage', 'id',\n",
      "       'imdb_id', 'original_language', 'original_title', 'overview',\n",
      "       'popularity', 'poster_path', 'production_companies',\n",
      "       'production_countries', 'release_date', 'revenue', 'runtime',\n",
      "       'spoken_languages', 'status', 'tagline', 'title', 'video',\n",
      "       'vote_average', 'vote_count', 'cast', 'crew', 'keywords', 'director',\n",
      "       'weighted_rating'],\n",
      "      dtype='object')\n"
     ]
    }
   ],
   "source": [
    "print('Shape of dataframe: ', df_all.shape)\n",
    "print('Columns of dataframe: ', df_all.columns)"
   ]
  },
  {
   "cell_type": "code",
   "execution_count": 19,
   "metadata": {},
   "outputs": [],
   "source": [
    "df = pd.read_csv('data/dataframe_merged_small.csv', usecols=['id', 'title', 'genres', 'keywords'])"
   ]
  },
  {
   "cell_type": "code",
   "execution_count": 20,
   "metadata": {},
   "outputs": [
    {
     "name": "stdout",
     "output_type": "stream",
     "text": [
      "Shape of dataframe:  (10876, 4)\n",
      "Columns of dataframe:  Index(['genres', 'id', 'title', 'keywords'], dtype='object')\n"
     ]
    }
   ],
   "source": [
    "print('Shape of dataframe: ', df.shape)\n",
    "print('Columns of dataframe: ', df.columns)"
   ]
  },
  {
   "cell_type": "code",
   "execution_count": 21,
   "metadata": {},
   "outputs": [
    {
     "data": {
      "text/html": [
       "<div>\n",
       "<style scoped>\n",
       "    .dataframe tbody tr th:only-of-type {\n",
       "        vertical-align: middle;\n",
       "    }\n",
       "\n",
       "    .dataframe tbody tr th {\n",
       "        vertical-align: top;\n",
       "    }\n",
       "\n",
       "    .dataframe thead th {\n",
       "        text-align: right;\n",
       "    }\n",
       "</style>\n",
       "<table border=\"1\" class=\"dataframe\">\n",
       "  <thead>\n",
       "    <tr style=\"text-align: right;\">\n",
       "      <th></th>\n",
       "      <th>genres</th>\n",
       "      <th>id</th>\n",
       "      <th>title</th>\n",
       "      <th>keywords</th>\n",
       "    </tr>\n",
       "  </thead>\n",
       "  <tbody>\n",
       "    <tr>\n",
       "      <th>0</th>\n",
       "      <td>['Animation', 'Comedy', 'Family']</td>\n",
       "      <td>862</td>\n",
       "      <td>Toy Story</td>\n",
       "      <td>['jealousy', 'toy', 'boy', 'friendship', 'frie...</td>\n",
       "    </tr>\n",
       "    <tr>\n",
       "      <th>1</th>\n",
       "      <td>['Adventure', 'Fantasy', 'Family']</td>\n",
       "      <td>8844</td>\n",
       "      <td>Jumanji</td>\n",
       "      <td>['board game', 'disappearance', \"based on chil...</td>\n",
       "    </tr>\n",
       "    <tr>\n",
       "      <th>2</th>\n",
       "      <td>['Romance', 'Comedy']</td>\n",
       "      <td>15602</td>\n",
       "      <td>Grumpier Old Men</td>\n",
       "      <td>['fishing', 'best friend', 'duringcreditssting...</td>\n",
       "    </tr>\n",
       "    <tr>\n",
       "      <th>3</th>\n",
       "      <td>['Action', 'Crime', 'Drama', 'Thriller']</td>\n",
       "      <td>949</td>\n",
       "      <td>Heat</td>\n",
       "      <td>['robbery', 'detective', 'bank', 'obsession', ...</td>\n",
       "    </tr>\n",
       "    <tr>\n",
       "      <th>4</th>\n",
       "      <td>['Comedy', 'Romance']</td>\n",
       "      <td>11860</td>\n",
       "      <td>Sabrina</td>\n",
       "      <td>['paris', 'brother brother relationship', 'cha...</td>\n",
       "    </tr>\n",
       "    <tr>\n",
       "      <th>...</th>\n",
       "      <td>...</td>\n",
       "      <td>...</td>\n",
       "      <td>...</td>\n",
       "      <td>...</td>\n",
       "    </tr>\n",
       "    <tr>\n",
       "      <th>10871</th>\n",
       "      <td>['Comedy']</td>\n",
       "      <td>19307</td>\n",
       "      <td>Carry On Camping</td>\n",
       "      <td>['holiday', 'nudist camp', 'camping', 'tent', ...</td>\n",
       "    </tr>\n",
       "    <tr>\n",
       "      <th>10872</th>\n",
       "      <td>['Drama', 'Family', 'Fantasy']</td>\n",
       "      <td>18098</td>\n",
       "      <td>Arabian Nights</td>\n",
       "      <td>[]</td>\n",
       "    </tr>\n",
       "    <tr>\n",
       "      <th>10873</th>\n",
       "      <td>['Drama', 'Foreign']</td>\n",
       "      <td>52103</td>\n",
       "      <td>Pickpocket</td>\n",
       "      <td>['independent film']</td>\n",
       "    </tr>\n",
       "    <tr>\n",
       "      <th>10874</th>\n",
       "      <td>['Family', 'Animation', 'Romance', 'Comedy']</td>\n",
       "      <td>455661</td>\n",
       "      <td>In a Heartbeat</td>\n",
       "      <td>['love', 'teenager', 'lgbt', 'short']</td>\n",
       "    </tr>\n",
       "    <tr>\n",
       "      <th>10875</th>\n",
       "      <td>['Comedy', 'Fantasy', 'Science Fiction']</td>\n",
       "      <td>49279</td>\n",
       "      <td>The Man with the Rubber Head</td>\n",
       "      <td>['laboratory', 'mad scientist', 'disembodied h...</td>\n",
       "    </tr>\n",
       "  </tbody>\n",
       "</table>\n",
       "<p>10876 rows × 4 columns</p>\n",
       "</div>"
      ],
      "text/plain": [
       "                                             genres      id  \\\n",
       "0                 ['Animation', 'Comedy', 'Family']     862   \n",
       "1                ['Adventure', 'Fantasy', 'Family']    8844   \n",
       "2                             ['Romance', 'Comedy']   15602   \n",
       "3          ['Action', 'Crime', 'Drama', 'Thriller']     949   \n",
       "4                             ['Comedy', 'Romance']   11860   \n",
       "...                                             ...     ...   \n",
       "10871                                    ['Comedy']   19307   \n",
       "10872                ['Drama', 'Family', 'Fantasy']   18098   \n",
       "10873                          ['Drama', 'Foreign']   52103   \n",
       "10874  ['Family', 'Animation', 'Romance', 'Comedy']  455661   \n",
       "10875      ['Comedy', 'Fantasy', 'Science Fiction']   49279   \n",
       "\n",
       "                              title  \\\n",
       "0                         Toy Story   \n",
       "1                           Jumanji   \n",
       "2                  Grumpier Old Men   \n",
       "3                              Heat   \n",
       "4                           Sabrina   \n",
       "...                             ...   \n",
       "10871              Carry On Camping   \n",
       "10872                Arabian Nights   \n",
       "10873                    Pickpocket   \n",
       "10874                In a Heartbeat   \n",
       "10875  The Man with the Rubber Head   \n",
       "\n",
       "                                                keywords  \n",
       "0      ['jealousy', 'toy', 'boy', 'friendship', 'frie...  \n",
       "1      ['board game', 'disappearance', \"based on chil...  \n",
       "2      ['fishing', 'best friend', 'duringcreditssting...  \n",
       "3      ['robbery', 'detective', 'bank', 'obsession', ...  \n",
       "4      ['paris', 'brother brother relationship', 'cha...  \n",
       "...                                                  ...  \n",
       "10871  ['holiday', 'nudist camp', 'camping', 'tent', ...  \n",
       "10872                                                 []  \n",
       "10873                               ['independent film']  \n",
       "10874              ['love', 'teenager', 'lgbt', 'short']  \n",
       "10875  ['laboratory', 'mad scientist', 'disembodied h...  \n",
       "\n",
       "[10876 rows x 4 columns]"
      ]
     },
     "execution_count": 21,
     "metadata": {},
     "output_type": "execute_result"
    }
   ],
   "source": [
    "df"
   ]
  },
  {
   "cell_type": "code",
   "execution_count": 22,
   "metadata": {},
   "outputs": [],
   "source": [
    "# Join [overview] and [keywords] together\n",
    "# These two columns are synopsis-associated and it's sensible to join them together\n",
    "df['genres_and_keywords'] = df['genres'] + df['keywords'].astype(str)"
   ]
  },
  {
   "cell_type": "code",
   "execution_count": 23,
   "metadata": {},
   "outputs": [
    {
     "data": {
      "text/plain": [
       "\"['Animation', 'Comedy', 'Family']['jealousy', 'toy', 'boy', 'friendship', 'friends']\""
      ]
     },
     "execution_count": 23,
     "metadata": {},
     "output_type": "execute_result"
    }
   ],
   "source": [
    "df['genres_and_keywords'].loc[0]"
   ]
  },
  {
   "cell_type": "code",
   "execution_count": 24,
   "metadata": {},
   "outputs": [
    {
     "data": {
      "text/plain": [
       "0"
      ]
     },
     "execution_count": 24,
     "metadata": {},
     "output_type": "execute_result"
    }
   ],
   "source": [
    "# Check if [overview] has NaN values and take the sum to see how many\n",
    "# NOTE: IT DOESN'T REALLY MATTER IF WE REPLACE THE NAN VALUES BUT LETS DO IT ANYWAYS\n",
    "#       THIS IS B/C WE WILL BE FEEDING IN [overview_and_keywords], NOT [overview]\n",
    "df['genres_and_keywords'].isnull().sum()"
   ]
  },
  {
   "cell_type": "code",
   "execution_count": 39,
   "metadata": {},
   "outputs": [],
   "source": [
    "vectorizer = CountVectorizer(stop_words='english')\n",
    "doc_word = vectorizer.fit_transform(df['genres_and_keywords'])"
   ]
  },
  {
   "cell_type": "code",
   "execution_count": 40,
   "metadata": {},
   "outputs": [],
   "source": [
    "# Compute the cosine similarity matrix from doc_word\n",
    "cosine_sim = cosine_similarity(doc_word, doc_word)"
   ]
  },
  {
   "cell_type": "code",
   "execution_count": 41,
   "metadata": {},
   "outputs": [
    {
     "data": {
      "text/html": [
       "<div>\n",
       "<style scoped>\n",
       "    .dataframe tbody tr th:only-of-type {\n",
       "        vertical-align: middle;\n",
       "    }\n",
       "\n",
       "    .dataframe tbody tr th {\n",
       "        vertical-align: top;\n",
       "    }\n",
       "\n",
       "    .dataframe thead th {\n",
       "        text-align: right;\n",
       "    }\n",
       "</style>\n",
       "<table border=\"1\" class=\"dataframe\">\n",
       "  <thead>\n",
       "    <tr style=\"text-align: right;\">\n",
       "      <th></th>\n",
       "      <th>0</th>\n",
       "      <th>1</th>\n",
       "      <th>2</th>\n",
       "      <th>3</th>\n",
       "      <th>4</th>\n",
       "      <th>5</th>\n",
       "      <th>6</th>\n",
       "      <th>7</th>\n",
       "      <th>8</th>\n",
       "      <th>9</th>\n",
       "      <th>...</th>\n",
       "      <th>10866</th>\n",
       "      <th>10867</th>\n",
       "      <th>10868</th>\n",
       "      <th>10869</th>\n",
       "      <th>10870</th>\n",
       "      <th>10871</th>\n",
       "      <th>10872</th>\n",
       "      <th>10873</th>\n",
       "      <th>10874</th>\n",
       "      <th>10875</th>\n",
       "    </tr>\n",
       "  </thead>\n",
       "  <tbody>\n",
       "    <tr>\n",
       "      <th>0</th>\n",
       "      <td>1.000000</td>\n",
       "      <td>0.102062</td>\n",
       "      <td>0.125000</td>\n",
       "      <td>0.000000</td>\n",
       "      <td>0.102062</td>\n",
       "      <td>0.000000</td>\n",
       "      <td>0.102062</td>\n",
       "      <td>0.204124</td>\n",
       "      <td>0.000000</td>\n",
       "      <td>0.000000</td>\n",
       "      <td>...</td>\n",
       "      <td>0.125000</td>\n",
       "      <td>0.612372</td>\n",
       "      <td>0.182574</td>\n",
       "      <td>0.353553</td>\n",
       "      <td>0.176777</td>\n",
       "      <td>0.133631</td>\n",
       "      <td>0.204124</td>\n",
       "      <td>0.000000</td>\n",
       "      <td>0.375000</td>\n",
       "      <td>0.102062</td>\n",
       "    </tr>\n",
       "    <tr>\n",
       "      <th>1</th>\n",
       "      <td>0.102062</td>\n",
       "      <td>1.000000</td>\n",
       "      <td>0.000000</td>\n",
       "      <td>0.000000</td>\n",
       "      <td>0.000000</td>\n",
       "      <td>0.077152</td>\n",
       "      <td>0.083333</td>\n",
       "      <td>0.166667</td>\n",
       "      <td>0.000000</td>\n",
       "      <td>0.000000</td>\n",
       "      <td>...</td>\n",
       "      <td>0.000000</td>\n",
       "      <td>0.166667</td>\n",
       "      <td>0.074536</td>\n",
       "      <td>0.000000</td>\n",
       "      <td>0.000000</td>\n",
       "      <td>0.000000</td>\n",
       "      <td>0.333333</td>\n",
       "      <td>0.000000</td>\n",
       "      <td>0.102062</td>\n",
       "      <td>0.083333</td>\n",
       "    </tr>\n",
       "    <tr>\n",
       "      <th>2</th>\n",
       "      <td>0.125000</td>\n",
       "      <td>0.000000</td>\n",
       "      <td>1.000000</td>\n",
       "      <td>0.000000</td>\n",
       "      <td>0.204124</td>\n",
       "      <td>0.000000</td>\n",
       "      <td>0.204124</td>\n",
       "      <td>0.000000</td>\n",
       "      <td>0.000000</td>\n",
       "      <td>0.000000</td>\n",
       "      <td>...</td>\n",
       "      <td>0.125000</td>\n",
       "      <td>0.204124</td>\n",
       "      <td>0.091287</td>\n",
       "      <td>0.000000</td>\n",
       "      <td>0.176777</td>\n",
       "      <td>0.133631</td>\n",
       "      <td>0.000000</td>\n",
       "      <td>0.000000</td>\n",
       "      <td>0.250000</td>\n",
       "      <td>0.102062</td>\n",
       "    </tr>\n",
       "    <tr>\n",
       "      <th>3</th>\n",
       "      <td>0.000000</td>\n",
       "      <td>0.000000</td>\n",
       "      <td>0.000000</td>\n",
       "      <td>1.000000</td>\n",
       "      <td>0.000000</td>\n",
       "      <td>0.178174</td>\n",
       "      <td>0.096225</td>\n",
       "      <td>0.000000</td>\n",
       "      <td>0.105409</td>\n",
       "      <td>0.222222</td>\n",
       "      <td>...</td>\n",
       "      <td>0.235702</td>\n",
       "      <td>0.000000</td>\n",
       "      <td>0.086066</td>\n",
       "      <td>0.000000</td>\n",
       "      <td>0.166667</td>\n",
       "      <td>0.000000</td>\n",
       "      <td>0.192450</td>\n",
       "      <td>0.166667</td>\n",
       "      <td>0.000000</td>\n",
       "      <td>0.000000</td>\n",
       "    </tr>\n",
       "    <tr>\n",
       "      <th>4</th>\n",
       "      <td>0.102062</td>\n",
       "      <td>0.000000</td>\n",
       "      <td>0.204124</td>\n",
       "      <td>0.000000</td>\n",
       "      <td>1.000000</td>\n",
       "      <td>0.000000</td>\n",
       "      <td>0.166667</td>\n",
       "      <td>0.000000</td>\n",
       "      <td>0.000000</td>\n",
       "      <td>0.000000</td>\n",
       "      <td>...</td>\n",
       "      <td>0.102062</td>\n",
       "      <td>0.166667</td>\n",
       "      <td>0.074536</td>\n",
       "      <td>0.000000</td>\n",
       "      <td>0.144338</td>\n",
       "      <td>0.109109</td>\n",
       "      <td>0.000000</td>\n",
       "      <td>0.000000</td>\n",
       "      <td>0.204124</td>\n",
       "      <td>0.083333</td>\n",
       "    </tr>\n",
       "    <tr>\n",
       "      <th>...</th>\n",
       "      <td>...</td>\n",
       "      <td>...</td>\n",
       "      <td>...</td>\n",
       "      <td>...</td>\n",
       "      <td>...</td>\n",
       "      <td>...</td>\n",
       "      <td>...</td>\n",
       "      <td>...</td>\n",
       "      <td>...</td>\n",
       "      <td>...</td>\n",
       "      <td>...</td>\n",
       "      <td>...</td>\n",
       "      <td>...</td>\n",
       "      <td>...</td>\n",
       "      <td>...</td>\n",
       "      <td>...</td>\n",
       "      <td>...</td>\n",
       "      <td>...</td>\n",
       "      <td>...</td>\n",
       "      <td>...</td>\n",
       "      <td>...</td>\n",
       "    </tr>\n",
       "    <tr>\n",
       "      <th>10871</th>\n",
       "      <td>0.133631</td>\n",
       "      <td>0.000000</td>\n",
       "      <td>0.133631</td>\n",
       "      <td>0.000000</td>\n",
       "      <td>0.109109</td>\n",
       "      <td>0.000000</td>\n",
       "      <td>0.109109</td>\n",
       "      <td>0.000000</td>\n",
       "      <td>0.000000</td>\n",
       "      <td>0.000000</td>\n",
       "      <td>...</td>\n",
       "      <td>0.133631</td>\n",
       "      <td>0.218218</td>\n",
       "      <td>0.097590</td>\n",
       "      <td>0.000000</td>\n",
       "      <td>0.188982</td>\n",
       "      <td>1.000000</td>\n",
       "      <td>0.000000</td>\n",
       "      <td>0.000000</td>\n",
       "      <td>0.133631</td>\n",
       "      <td>0.109109</td>\n",
       "    </tr>\n",
       "    <tr>\n",
       "      <th>10872</th>\n",
       "      <td>0.204124</td>\n",
       "      <td>0.333333</td>\n",
       "      <td>0.000000</td>\n",
       "      <td>0.192450</td>\n",
       "      <td>0.000000</td>\n",
       "      <td>0.000000</td>\n",
       "      <td>0.166667</td>\n",
       "      <td>0.166667</td>\n",
       "      <td>0.182574</td>\n",
       "      <td>0.192450</td>\n",
       "      <td>...</td>\n",
       "      <td>0.204124</td>\n",
       "      <td>0.333333</td>\n",
       "      <td>0.149071</td>\n",
       "      <td>0.000000</td>\n",
       "      <td>0.288675</td>\n",
       "      <td>0.000000</td>\n",
       "      <td>1.000000</td>\n",
       "      <td>0.288675</td>\n",
       "      <td>0.204124</td>\n",
       "      <td>0.166667</td>\n",
       "    </tr>\n",
       "    <tr>\n",
       "      <th>10873</th>\n",
       "      <td>0.000000</td>\n",
       "      <td>0.000000</td>\n",
       "      <td>0.000000</td>\n",
       "      <td>0.166667</td>\n",
       "      <td>0.000000</td>\n",
       "      <td>0.000000</td>\n",
       "      <td>0.144338</td>\n",
       "      <td>0.000000</td>\n",
       "      <td>0.158114</td>\n",
       "      <td>0.166667</td>\n",
       "      <td>...</td>\n",
       "      <td>0.176777</td>\n",
       "      <td>0.000000</td>\n",
       "      <td>0.000000</td>\n",
       "      <td>0.000000</td>\n",
       "      <td>0.250000</td>\n",
       "      <td>0.000000</td>\n",
       "      <td>0.288675</td>\n",
       "      <td>1.000000</td>\n",
       "      <td>0.000000</td>\n",
       "      <td>0.144338</td>\n",
       "    </tr>\n",
       "    <tr>\n",
       "      <th>10874</th>\n",
       "      <td>0.375000</td>\n",
       "      <td>0.102062</td>\n",
       "      <td>0.250000</td>\n",
       "      <td>0.000000</td>\n",
       "      <td>0.204124</td>\n",
       "      <td>0.000000</td>\n",
       "      <td>0.306186</td>\n",
       "      <td>0.204124</td>\n",
       "      <td>0.000000</td>\n",
       "      <td>0.000000</td>\n",
       "      <td>...</td>\n",
       "      <td>0.125000</td>\n",
       "      <td>0.612372</td>\n",
       "      <td>0.273861</td>\n",
       "      <td>0.353553</td>\n",
       "      <td>0.176777</td>\n",
       "      <td>0.133631</td>\n",
       "      <td>0.204124</td>\n",
       "      <td>0.000000</td>\n",
       "      <td>1.000000</td>\n",
       "      <td>0.204124</td>\n",
       "    </tr>\n",
       "    <tr>\n",
       "      <th>10875</th>\n",
       "      <td>0.102062</td>\n",
       "      <td>0.083333</td>\n",
       "      <td>0.102062</td>\n",
       "      <td>0.000000</td>\n",
       "      <td>0.083333</td>\n",
       "      <td>0.000000</td>\n",
       "      <td>0.083333</td>\n",
       "      <td>0.000000</td>\n",
       "      <td>0.000000</td>\n",
       "      <td>0.000000</td>\n",
       "      <td>...</td>\n",
       "      <td>0.102062</td>\n",
       "      <td>0.166667</td>\n",
       "      <td>0.074536</td>\n",
       "      <td>0.000000</td>\n",
       "      <td>0.144338</td>\n",
       "      <td>0.109109</td>\n",
       "      <td>0.166667</td>\n",
       "      <td>0.144338</td>\n",
       "      <td>0.204124</td>\n",
       "      <td>1.000000</td>\n",
       "    </tr>\n",
       "  </tbody>\n",
       "</table>\n",
       "<p>10876 rows × 10876 columns</p>\n",
       "</div>"
      ],
      "text/plain": [
       "          0         1         2         3         4         5         6      \\\n",
       "0      1.000000  0.102062  0.125000  0.000000  0.102062  0.000000  0.102062   \n",
       "1      0.102062  1.000000  0.000000  0.000000  0.000000  0.077152  0.083333   \n",
       "2      0.125000  0.000000  1.000000  0.000000  0.204124  0.000000  0.204124   \n",
       "3      0.000000  0.000000  0.000000  1.000000  0.000000  0.178174  0.096225   \n",
       "4      0.102062  0.000000  0.204124  0.000000  1.000000  0.000000  0.166667   \n",
       "...         ...       ...       ...       ...       ...       ...       ...   \n",
       "10871  0.133631  0.000000  0.133631  0.000000  0.109109  0.000000  0.109109   \n",
       "10872  0.204124  0.333333  0.000000  0.192450  0.000000  0.000000  0.166667   \n",
       "10873  0.000000  0.000000  0.000000  0.166667  0.000000  0.000000  0.144338   \n",
       "10874  0.375000  0.102062  0.250000  0.000000  0.204124  0.000000  0.306186   \n",
       "10875  0.102062  0.083333  0.102062  0.000000  0.083333  0.000000  0.083333   \n",
       "\n",
       "          7         8         9      ...     10866     10867     10868  \\\n",
       "0      0.204124  0.000000  0.000000  ...  0.125000  0.612372  0.182574   \n",
       "1      0.166667  0.000000  0.000000  ...  0.000000  0.166667  0.074536   \n",
       "2      0.000000  0.000000  0.000000  ...  0.125000  0.204124  0.091287   \n",
       "3      0.000000  0.105409  0.222222  ...  0.235702  0.000000  0.086066   \n",
       "4      0.000000  0.000000  0.000000  ...  0.102062  0.166667  0.074536   \n",
       "...         ...       ...       ...  ...       ...       ...       ...   \n",
       "10871  0.000000  0.000000  0.000000  ...  0.133631  0.218218  0.097590   \n",
       "10872  0.166667  0.182574  0.192450  ...  0.204124  0.333333  0.149071   \n",
       "10873  0.000000  0.158114  0.166667  ...  0.176777  0.000000  0.000000   \n",
       "10874  0.204124  0.000000  0.000000  ...  0.125000  0.612372  0.273861   \n",
       "10875  0.000000  0.000000  0.000000  ...  0.102062  0.166667  0.074536   \n",
       "\n",
       "          10869     10870     10871     10872     10873     10874     10875  \n",
       "0      0.353553  0.176777  0.133631  0.204124  0.000000  0.375000  0.102062  \n",
       "1      0.000000  0.000000  0.000000  0.333333  0.000000  0.102062  0.083333  \n",
       "2      0.000000  0.176777  0.133631  0.000000  0.000000  0.250000  0.102062  \n",
       "3      0.000000  0.166667  0.000000  0.192450  0.166667  0.000000  0.000000  \n",
       "4      0.000000  0.144338  0.109109  0.000000  0.000000  0.204124  0.083333  \n",
       "...         ...       ...       ...       ...       ...       ...       ...  \n",
       "10871  0.000000  0.188982  1.000000  0.000000  0.000000  0.133631  0.109109  \n",
       "10872  0.000000  0.288675  0.000000  1.000000  0.288675  0.204124  0.166667  \n",
       "10873  0.000000  0.250000  0.000000  0.288675  1.000000  0.000000  0.144338  \n",
       "10874  0.353553  0.176777  0.133631  0.204124  0.000000  1.000000  0.204124  \n",
       "10875  0.000000  0.144338  0.109109  0.166667  0.144338  0.204124  1.000000  \n",
       "\n",
       "[10876 rows x 10876 columns]"
      ]
     },
     "execution_count": 41,
     "metadata": {},
     "output_type": "execute_result"
    }
   ],
   "source": [
    "# Look at the cosine_sim matrix\n",
    "pd.DataFrame(cosine_sim)"
   ]
  },
  {
   "cell_type": "code",
   "execution_count": 48,
   "metadata": {},
   "outputs": [
    {
     "data": {
      "text/html": [
       "<div>\n",
       "<style scoped>\n",
       "    .dataframe tbody tr th:only-of-type {\n",
       "        vertical-align: middle;\n",
       "    }\n",
       "\n",
       "    .dataframe tbody tr th {\n",
       "        vertical-align: top;\n",
       "    }\n",
       "\n",
       "    .dataframe thead th {\n",
       "        text-align: right;\n",
       "    }\n",
       "</style>\n",
       "<table border=\"1\" class=\"dataframe\">\n",
       "  <thead>\n",
       "    <tr style=\"text-align: right;\">\n",
       "      <th></th>\n",
       "      <th>genres</th>\n",
       "      <th>id</th>\n",
       "      <th>title</th>\n",
       "      <th>keywords</th>\n",
       "      <th>genres_and_keywords</th>\n",
       "    </tr>\n",
       "  </thead>\n",
       "  <tbody>\n",
       "    <tr>\n",
       "      <th>6701</th>\n",
       "      <td>['Science Fiction', 'Action', 'Adventure']</td>\n",
       "      <td>24428</td>\n",
       "      <td>The Avengers</td>\n",
       "      <td>['new york', 'shield', 'marvel comic', 'superh...</td>\n",
       "      <td>['Science Fiction', 'Action', 'Adventure']['ne...</td>\n",
       "    </tr>\n",
       "  </tbody>\n",
       "</table>\n",
       "</div>"
      ],
      "text/plain": [
       "                                          genres     id         title  \\\n",
       "6701  ['Science Fiction', 'Action', 'Adventure']  24428  The Avengers   \n",
       "\n",
       "                                               keywords  \\\n",
       "6701  ['new york', 'shield', 'marvel comic', 'superh...   \n",
       "\n",
       "                                    genres_and_keywords  \n",
       "6701  ['Science Fiction', 'Action', 'Adventure']['ne...  "
      ]
     },
     "execution_count": 48,
     "metadata": {},
     "output_type": "execute_result"
    }
   ],
   "source": [
    "df[df['title']=='The Avengers']"
   ]
  },
  {
   "cell_type": "code",
   "execution_count": 50,
   "metadata": {},
   "outputs": [
    {
     "data": {
      "text/html": [
       "<div>\n",
       "<style scoped>\n",
       "    .dataframe tbody tr th:only-of-type {\n",
       "        vertical-align: middle;\n",
       "    }\n",
       "\n",
       "    .dataframe tbody tr th {\n",
       "        vertical-align: top;\n",
       "    }\n",
       "\n",
       "    .dataframe thead th {\n",
       "        text-align: right;\n",
       "    }\n",
       "</style>\n",
       "<table border=\"1\" class=\"dataframe\">\n",
       "  <thead>\n",
       "    <tr style=\"text-align: right;\">\n",
       "      <th></th>\n",
       "      <th>genres</th>\n",
       "      <th>id</th>\n",
       "      <th>title</th>\n",
       "      <th>keywords</th>\n",
       "      <th>genres_and_keywords</th>\n",
       "    </tr>\n",
       "  </thead>\n",
       "  <tbody>\n",
       "    <tr>\n",
       "      <th>8392</th>\n",
       "      <td>['Action', 'Adventure', 'Science Fiction']</td>\n",
       "      <td>99861</td>\n",
       "      <td>Avengers: Age of Ultron</td>\n",
       "      <td>['marvel comic', 'sequel', 'superhero', 'based...</td>\n",
       "      <td>['Action', 'Adventure', 'Science Fiction']['ma...</td>\n",
       "    </tr>\n",
       "  </tbody>\n",
       "</table>\n",
       "</div>"
      ],
      "text/plain": [
       "                                          genres     id  \\\n",
       "8392  ['Action', 'Adventure', 'Science Fiction']  99861   \n",
       "\n",
       "                        title  \\\n",
       "8392  Avengers: Age of Ultron   \n",
       "\n",
       "                                               keywords  \\\n",
       "8392  ['marvel comic', 'sequel', 'superhero', 'based...   \n",
       "\n",
       "                                    genres_and_keywords  \n",
       "8392  ['Action', 'Adventure', 'Science Fiction']['ma...  "
      ]
     },
     "execution_count": 50,
     "metadata": {},
     "output_type": "execute_result"
    }
   ],
   "source": [
    "df[df['title']=='Avengers: Age of Ultron']"
   ]
  },
  {
   "cell_type": "code",
   "execution_count": 52,
   "metadata": {},
   "outputs": [
    {
     "data": {
      "text/html": [
       "<div>\n",
       "<style scoped>\n",
       "    .dataframe tbody tr th:only-of-type {\n",
       "        vertical-align: middle;\n",
       "    }\n",
       "\n",
       "    .dataframe tbody tr th {\n",
       "        vertical-align: top;\n",
       "    }\n",
       "\n",
       "    .dataframe thead th {\n",
       "        text-align: right;\n",
       "    }\n",
       "</style>\n",
       "<table border=\"1\" class=\"dataframe\">\n",
       "  <thead>\n",
       "    <tr style=\"text-align: right;\">\n",
       "      <th></th>\n",
       "      <th>genres</th>\n",
       "      <th>id</th>\n",
       "      <th>title</th>\n",
       "      <th>keywords</th>\n",
       "      <th>genres_and_keywords</th>\n",
       "    </tr>\n",
       "  </thead>\n",
       "  <tbody>\n",
       "    <tr>\n",
       "      <th>5402</th>\n",
       "      <td>['Action', 'Science Fiction', 'Adventure']</td>\n",
       "      <td>1726</td>\n",
       "      <td>Iron Man</td>\n",
       "      <td>['middle east', 'arms dealer', 'malibu', 'marv...</td>\n",
       "      <td>['Action', 'Science Fiction', 'Adventure']['mi...</td>\n",
       "    </tr>\n",
       "  </tbody>\n",
       "</table>\n",
       "</div>"
      ],
      "text/plain": [
       "                                          genres    id     title  \\\n",
       "5402  ['Action', 'Science Fiction', 'Adventure']  1726  Iron Man   \n",
       "\n",
       "                                               keywords  \\\n",
       "5402  ['middle east', 'arms dealer', 'malibu', 'marv...   \n",
       "\n",
       "                                    genres_and_keywords  \n",
       "5402  ['Action', 'Science Fiction', 'Adventure']['mi...  "
      ]
     },
     "execution_count": 52,
     "metadata": {},
     "output_type": "execute_result"
    }
   ],
   "source": [
    "df[df['title']=='Iron Man']"
   ]
  },
  {
   "cell_type": "code",
   "execution_count": 53,
   "metadata": {},
   "outputs": [
    {
     "data": {
      "text/html": [
       "<div>\n",
       "<style scoped>\n",
       "    .dataframe tbody tr th:only-of-type {\n",
       "        vertical-align: middle;\n",
       "    }\n",
       "\n",
       "    .dataframe tbody tr th {\n",
       "        vertical-align: top;\n",
       "    }\n",
       "\n",
       "    .dataframe thead th {\n",
       "        text-align: right;\n",
       "    }\n",
       "</style>\n",
       "<table border=\"1\" class=\"dataframe\">\n",
       "  <thead>\n",
       "    <tr style=\"text-align: right;\">\n",
       "      <th></th>\n",
       "      <th>genres</th>\n",
       "      <th>id</th>\n",
       "      <th>title</th>\n",
       "      <th>keywords</th>\n",
       "      <th>genres_and_keywords</th>\n",
       "    </tr>\n",
       "  </thead>\n",
       "  <tbody>\n",
       "    <tr>\n",
       "      <th>7638</th>\n",
       "      <td>['Animation', 'Adventure', 'Family']</td>\n",
       "      <td>109445</td>\n",
       "      <td>Frozen</td>\n",
       "      <td>['queen', 'musical', 'princess', 'betrayal', '...</td>\n",
       "      <td>['Animation', 'Adventure', 'Family']['queen', ...</td>\n",
       "    </tr>\n",
       "  </tbody>\n",
       "</table>\n",
       "</div>"
      ],
      "text/plain": [
       "                                    genres      id   title  \\\n",
       "7638  ['Animation', 'Adventure', 'Family']  109445  Frozen   \n",
       "\n",
       "                                               keywords  \\\n",
       "7638  ['queen', 'musical', 'princess', 'betrayal', '...   \n",
       "\n",
       "                                    genres_and_keywords  \n",
       "7638  ['Animation', 'Adventure', 'Family']['queen', ...  "
      ]
     },
     "execution_count": 53,
     "metadata": {},
     "output_type": "execute_result"
    }
   ],
   "source": [
    "df[df['title']=='Frozen']"
   ]
  },
  {
   "cell_type": "code",
   "execution_count": 65,
   "metadata": {},
   "outputs": [
    {
     "data": {
      "text/plain": [
       "0.8581163303210333"
      ]
     },
     "execution_count": 65,
     "metadata": {},
     "output_type": "execute_result"
    }
   ],
   "source": [
    "# Similarity of LotR: Fellowship to LotR: Two Towers\n",
    "pd.DataFrame(cosine_sim)[2276].loc[2627]"
   ]
  },
  {
   "cell_type": "code",
   "execution_count": 66,
   "metadata": {},
   "outputs": [
    {
     "data": {
      "text/plain": [
       "0.8999999999999999"
      ]
     },
     "execution_count": 66,
     "metadata": {},
     "output_type": "execute_result"
    }
   ],
   "source": [
    "# Similarity of LotR: Fellowship to The Hobbit\n",
    "pd.DataFrame(cosine_sim)[2276].loc[7206]"
   ]
  },
  {
   "cell_type": "code",
   "execution_count": 67,
   "metadata": {},
   "outputs": [
    {
     "data": {
      "text/plain": [
       "0.11180339887498948"
      ]
     },
     "execution_count": 67,
     "metadata": {},
     "output_type": "execute_result"
    }
   ],
   "source": [
    "# Similarity of LotR: Fellowship to Frozen\n",
    "pd.DataFrame(cosine_sim)[2276].loc[7638]"
   ]
  },
  {
   "cell_type": "code",
   "execution_count": 44,
   "metadata": {},
   "outputs": [],
   "source": [
    "# # Save cosine_sim array to use in hybrid recommendation system\n",
    "np.save('similarity_matrix/cos_themes_small.npy', cosine_sim)"
   ]
  },
  {
   "cell_type": "code",
   "execution_count": 45,
   "metadata": {},
   "outputs": [],
   "source": [
    "# Reset index of our dataframe and construct reverse mapping as before\n",
    "indices = pd.Series(df.index, index=df['title'])"
   ]
  },
  {
   "cell_type": "code",
   "execution_count": 46,
   "metadata": {},
   "outputs": [],
   "source": [
    "# Function that takes in movie title as input and outputs most similar movies\n",
    "def get_recommendations(title, cosine_sim=cosine_sim):\n",
    "    # Get the index of the movie that matches the title\n",
    "    idx = indices[title]\n",
    "\n",
    "    # Get the pairwsie similarity scores of all movies with that movie\n",
    "    sim_scores = list(enumerate(cosine_sim[idx]))\n",
    "\n",
    "    # Sort the movies based on the similarity scores\n",
    "    sim_scores = sorted(sim_scores, key=lambda x: x[1], reverse=True)\n",
    "\n",
    "    # Get the scores of the 10 most similar movies\n",
    "    sim_scores = sim_scores[1:11]\n",
    "\n",
    "    # Get the movie indices\n",
    "    movie_indices = [i[0] for i in sim_scores]\n",
    "\n",
    "    # Return the top 10 most similar movies\n",
    "    return df['title'].iloc[movie_indices]"
   ]
  },
  {
   "cell_type": "code",
   "execution_count": 47,
   "metadata": {},
   "outputs": [
    {
     "data": {
      "text/plain": [
       "5440                    The Incredible Hulk\n",
       "1777                                  X-Men\n",
       "6130                             Iron Man 2\n",
       "8392                Avengers: Age of Ultron\n",
       "8394                                Ant-Man\n",
       "2767                                     X2\n",
       "8398                         Doctor Strange\n",
       "7836    Captain America: The Winter Soldier\n",
       "4756                  X-Men: The Last Stand\n",
       "7363                            Planet Hulk\n",
       "Name: title, dtype: object"
      ]
     },
     "execution_count": 47,
     "metadata": {},
     "output_type": "execute_result"
    }
   ],
   "source": [
    "get_recommendations('The Avengers')"
   ]
  },
  {
   "cell_type": "code",
   "execution_count": 32,
   "metadata": {},
   "outputs": [
    {
     "data": {
      "text/plain": [
       "8772          Barbie and the Three Musketeers\n",
       "8311               Toy Story That Time Forgot\n",
       "8123                        Hawaiian Vacation\n",
       "6179                              Toy Story 3\n",
       "6220         The Bugs Bunny/Road Runner Movie\n",
       "8376                   Scooby-Doo! Camp Scare\n",
       "8562                        Stitch! The Movie\n",
       "8954        Scooby-Doo! and the Samurai Sword\n",
       "8957    Scooby-Doo! and the Loch Ness Monster\n",
       "8958                      Big Top Scooby-Doo!\n",
       "Name: title, dtype: object"
      ]
     },
     "execution_count": 32,
     "metadata": {},
     "output_type": "execute_result"
    }
   ],
   "source": [
    "get_recommendations('Toy Story')"
   ]
  },
  {
   "cell_type": "code",
   "execution_count": null,
   "metadata": {},
   "outputs": [],
   "source": []
  }
 ],
 "metadata": {
  "kernelspec": {
   "display_name": "Python 3",
   "language": "python",
   "name": "python3"
  },
  "language_info": {
   "codemirror_mode": {
    "name": "ipython",
    "version": 3
   },
   "file_extension": ".py",
   "mimetype": "text/x-python",
   "name": "python",
   "nbconvert_exporter": "python",
   "pygments_lexer": "ipython3",
   "version": "3.8.3"
  }
 },
 "nbformat": 4,
 "nbformat_minor": 4
}
