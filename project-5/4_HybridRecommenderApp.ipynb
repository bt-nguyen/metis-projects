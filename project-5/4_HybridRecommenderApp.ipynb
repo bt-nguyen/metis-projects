{
 "cells": [
  {
   "cell_type": "code",
   "execution_count": 2,
   "metadata": {},
   "outputs": [],
   "source": [
    "###############\n",
    "### IMPORTS ###\n",
    "###############\n",
    "\n",
    "import pandas as pd\n",
    "import numpy as np"
   ]
  },
  {
   "cell_type": "code",
   "execution_count": 3,
   "metadata": {},
   "outputs": [],
   "source": [
    "df = pd.read_csv('data/dataframe_merged.csv', usecols=['id', 'title', 'genres'])"
   ]
  },
  {
   "cell_type": "code",
   "execution_count": 4,
   "metadata": {},
   "outputs": [
    {
     "data": {
      "text/html": [
       "<div>\n",
       "<style scoped>\n",
       "    .dataframe tbody tr th:only-of-type {\n",
       "        vertical-align: middle;\n",
       "    }\n",
       "\n",
       "    .dataframe tbody tr th {\n",
       "        vertical-align: top;\n",
       "    }\n",
       "\n",
       "    .dataframe thead th {\n",
       "        text-align: right;\n",
       "    }\n",
       "</style>\n",
       "<table border=\"1\" class=\"dataframe\">\n",
       "  <thead>\n",
       "    <tr style=\"text-align: right;\">\n",
       "      <th></th>\n",
       "      <th>genres</th>\n",
       "      <th>id</th>\n",
       "      <th>title</th>\n",
       "    </tr>\n",
       "  </thead>\n",
       "  <tbody>\n",
       "    <tr>\n",
       "      <th>0</th>\n",
       "      <td>['Animation', 'Comedy', 'Family']</td>\n",
       "      <td>862</td>\n",
       "      <td>Toy Story</td>\n",
       "    </tr>\n",
       "    <tr>\n",
       "      <th>1</th>\n",
       "      <td>['Adventure', 'Fantasy', 'Family']</td>\n",
       "      <td>8844</td>\n",
       "      <td>Jumanji</td>\n",
       "    </tr>\n",
       "    <tr>\n",
       "      <th>2</th>\n",
       "      <td>['Romance', 'Comedy']</td>\n",
       "      <td>15602</td>\n",
       "      <td>Grumpier Old Men</td>\n",
       "    </tr>\n",
       "    <tr>\n",
       "      <th>3</th>\n",
       "      <td>['Comedy', 'Drama', 'Romance']</td>\n",
       "      <td>31357</td>\n",
       "      <td>Waiting to Exhale</td>\n",
       "    </tr>\n",
       "    <tr>\n",
       "      <th>4</th>\n",
       "      <td>['Comedy']</td>\n",
       "      <td>11862</td>\n",
       "      <td>Father of the Bride Part II</td>\n",
       "    </tr>\n",
       "  </tbody>\n",
       "</table>\n",
       "</div>"
      ],
      "text/plain": [
       "                               genres     id                        title\n",
       "0   ['Animation', 'Comedy', 'Family']    862                    Toy Story\n",
       "1  ['Adventure', 'Fantasy', 'Family']   8844                      Jumanji\n",
       "2               ['Romance', 'Comedy']  15602             Grumpier Old Men\n",
       "3      ['Comedy', 'Drama', 'Romance']  31357            Waiting to Exhale\n",
       "4                          ['Comedy']  11862  Father of the Bride Part II"
      ]
     },
     "execution_count": 4,
     "metadata": {},
     "output_type": "execute_result"
    }
   ],
   "source": [
    "df.head(5)"
   ]
  },
  {
   "cell_type": "code",
   "execution_count": 6,
   "metadata": {},
   "outputs": [],
   "source": [
    "cos_sim_overview = np.load('cosine_similarity/cos_overview.npy')"
   ]
  },
  {
   "cell_type": "code",
   "execution_count": 7,
   "metadata": {},
   "outputs": [],
   "source": [
    "df_cos_sim_overview = pd.DataFrame(cos_sim_overview)"
   ]
  },
  {
   "cell_type": "code",
   "execution_count": 8,
   "metadata": {},
   "outputs": [],
   "source": [
    "cos_sim_metadata = np.load('cosine_similarity/cos_metadata.npy')"
   ]
  },
  {
   "cell_type": "code",
   "execution_count": 10,
   "metadata": {},
   "outputs": [],
   "source": [
    "df_cos_sim_metadata = pd.DataFrame(cos_sim_metadata)"
   ]
  },
  {
   "cell_type": "code",
   "execution_count": 55,
   "metadata": {},
   "outputs": [],
   "source": [
    "# Indices will track the title from our dataframe\n",
    "indices = pd.Series(df.index, index=df['title'])\n",
    "\n",
    "def get_recommendations_tunable(title, alpha, beta):\n",
    "    \n",
    "    # Get the index of the movie that matches the title\n",
    "    idx = indices[title]\n",
    "    \n",
    "    # Get the cosine similarity from metadata, overview, (and collaborative)\n",
    "    # Include tunable coefficients (alpha, beta, gamma) to the cosine matrix (must equal 1)\n",
    "    sim_score_total = list(enumerate((alpha * cos_sim_metadata[idx])/(alpha+beta) + \\\n",
    "                                        (beta * cos_sim_overview[idx])/(alpha+beta)\n",
    "                                    )\n",
    "    #                                       + gamma * cos_sim_collaborative[idx]\n",
    "                          )\n",
    "\n",
    "    # Get the scores of the 10 most similar movies\n",
    "    sim_score_total = sorted(sim_score_total, key=lambda x: x[1], reverse=True)\n",
    "    \n",
    "    # Get the scores of the 10 most similar movies\n",
    "    sim_score_total = sim_score_total[1:11]\n",
    "    \n",
    "    # Get the movie indices\n",
    "    movie_indices = [i[0] for i in sim_score]\n",
    "\n",
    "    # Return the top 10 most similar movies\n",
    "    return df['title'].iloc[movie_indices]"
   ]
  },
  {
   "cell_type": "code",
   "execution_count": 56,
   "metadata": {},
   "outputs": [
    {
     "name": "stdout",
     "output_type": "stream",
     "text": [
      "3024                    Toy Story 2\n",
      "22126          Toy Story of Terror!\n",
      "25999               Partysaurus Rex\n",
      "26001    Toy Story That Time Forgot\n",
      "29198               Superstar Goofy\n",
      "15519                   Toy Story 3\n",
      "3336              Creature Comforts\n",
      "41622                       Lorenzo\n",
      "10754                      Luxo Jr.\n",
      "19301                       Tin Toy\n",
      "Name: title, dtype: object\n"
     ]
    }
   ],
   "source": [
    "get_recommendations_tunable('Toy Story', alpha=1.0, beta=0)"
   ]
  },
  {
   "cell_type": "code",
   "execution_count": 40,
   "metadata": {},
   "outputs": [
    {
     "ename": "NameError",
     "evalue": "name 'cosine_sim' is not defined",
     "output_type": "error",
     "traceback": [
      "\u001b[0;31m---------------------------------------------------------------------------\u001b[0m",
      "\u001b[0;31mNameError\u001b[0m                                 Traceback (most recent call last)",
      "\u001b[0;32m<ipython-input-40-e8f409744d73>\u001b[0m in \u001b[0;36m<module>\u001b[0;34m\u001b[0m\n\u001b[1;32m      3\u001b[0m \u001b[0;34m\u001b[0m\u001b[0m\n\u001b[1;32m      4\u001b[0m \u001b[0;31m# Function that takes in movie title as input and outputs most similar movies\u001b[0m\u001b[0;34m\u001b[0m\u001b[0;34m\u001b[0m\u001b[0;34m\u001b[0m\u001b[0m\n\u001b[0;32m----> 5\u001b[0;31m \u001b[0;32mdef\u001b[0m \u001b[0mget_recommendations\u001b[0m\u001b[0;34m(\u001b[0m\u001b[0mtitle\u001b[0m\u001b[0;34m,\u001b[0m \u001b[0mcosine_sim\u001b[0m\u001b[0;34m=\u001b[0m\u001b[0mcosine_sim\u001b[0m\u001b[0;34m)\u001b[0m\u001b[0;34m:\u001b[0m\u001b[0;34m\u001b[0m\u001b[0;34m\u001b[0m\u001b[0m\n\u001b[0m\u001b[1;32m      6\u001b[0m     \u001b[0;31m# Get the index of the movie that matches the title\u001b[0m\u001b[0;34m\u001b[0m\u001b[0;34m\u001b[0m\u001b[0;34m\u001b[0m\u001b[0m\n\u001b[1;32m      7\u001b[0m     \u001b[0midx\u001b[0m \u001b[0;34m=\u001b[0m \u001b[0mindices\u001b[0m\u001b[0;34m[\u001b[0m\u001b[0mtitle\u001b[0m\u001b[0;34m]\u001b[0m\u001b[0;34m\u001b[0m\u001b[0;34m\u001b[0m\u001b[0m\n",
      "\u001b[0;31mNameError\u001b[0m: name 'cosine_sim' is not defined"
     ]
    }
   ],
   "source": [
    "# Function that takes in movie title as input and outputs most similar movies\n",
    "def get_recommendations_opposites(title, cosine_sim=cosine_sim):\n",
    "    # Get the index of the movie that matches the title\n",
    "    idx = indices[title]\n",
    "\n",
    "    # Get the pairwise similarity scores of all movies with that movie\n",
    "    sim_scores = list(enumerate(cosine_overview[idx]))\n",
    "\n",
    "    # Sort the movies based on the similarity scores\n",
    "    sim_scores = sorted(sim_scores, key=lambda x: x[1], reverse=True)\n",
    "\n",
    "    # Get the scores of the 10 most similar movies\n",
    "    sim_scores = sim_scores[1:11]\n",
    "\n",
    "    # Get the movie indices\n",
    "    movie_indices = [i[0] for i in sim_scores]\n",
    "\n",
    "    # Return the top 10 most similar movies\n",
    "    return df['title'].iloc[movie_indices]"
   ]
  },
  {
   "cell_type": "code",
   "execution_count": null,
   "metadata": {},
   "outputs": [],
   "source": [
    "def get_ensemble_recs(movie_id, content_embeddings, collaborative_embeddings, file_path):\n",
    "    #get similar movies from content\n",
    "    sim_model_cont = SimilarityPredictions(content_embeddings, similarity_metric=\"cosine\")\n",
    "    cont_output = sim_model_cont.predict_similar_items(seed_item=movie_id, n=26744)\n",
    "    similar_movies = pd.DataFrame(cont_output)\n",
    "    similar_movies.set_index('item_id', inplace=True)\n",
    "    sim_df_cont = pd.merge(movies, similar_movies, left_index=True, right_index=True)\n",
    "    sim_df_cont.sort_values('similarity_score', ascending=False, inplace=True)\n",
    "    sim_df_cont = sim_df_cont.rename(index=str, columns={\"similarity_score\": \"content_similarity_score\"})\n",
    "\n",
    "    #get similar movies from collaborative\n",
    "    sim_model_coll = SimilarityPredictions(collaborative_embeddings, similarity_metric=\"cosine\")\n",
    "    coll_output = sim_model_coll.predict_similar_items(seed_item=movie_id, n=26744)\n",
    "    similar_movies = pd.DataFrame(coll_output)\n",
    "    similar_movies.set_index('item_id', inplace=True)\n",
    "    sim_df_coll = pd.merge(movies, similar_movies, left_index=True, right_index=True)\n",
    "    sim_df_coll.sort_values('similarity_score', ascending=False, inplace=True)\n",
    "    sim_df_coll = sim_df_coll.rename(index=str, columns={\"similarity_score\": \"collaborative_similarity_score\"})\n",
    "\n",
    "    #ensemble results\n",
    "    sim_df_avg = pd.merge(sim_df_coll, pd.DataFrame(sim_df_cont['content_similarity_score']), left_index=True, right_index=True)\n",
    "    sim_df_avg['average_similarity_score'] = (sim_df_avg['content_similarity_score'] + sim_df_avg['collaborative_similarity_score'])/2\n",
    "    #sim_df_avg.drop(\"collaborative_similarity_score\", axis=1, inplace=True)\n",
    "    #sim_df_avg.drop(\"content_similarity_score\", axis=1, inplace=True)\n",
    "    sim_df_avg.sort_values('average_similarity_score', ascending=False, inplace=True)\n",
    "    \n",
    "    #save recs locally\n",
    "    sim_df_avg.head(20).to_csv(file_path, index=False, header=True)\n",
    "    return sim_df_avg.head(20)"
   ]
  },
  {
   "cell_type": "code",
   "execution_count": null,
   "metadata": {},
   "outputs": [],
   "source": []
  }
 ],
 "metadata": {
  "kernelspec": {
   "display_name": "Python 3",
   "language": "python",
   "name": "python3"
  },
  "language_info": {
   "codemirror_mode": {
    "name": "ipython",
    "version": 3
   },
   "file_extension": ".py",
   "mimetype": "text/x-python",
   "name": "python",
   "nbconvert_exporter": "python",
   "pygments_lexer": "ipython3",
   "version": "3.8.3"
  }
 },
 "nbformat": 4,
 "nbformat_minor": 4
}
